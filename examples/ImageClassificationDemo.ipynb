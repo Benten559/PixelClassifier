{
 "cells": [
  {
   "cell_type": "code",
   "execution_count": 1,
   "metadata": {},
   "outputs": [
    {
     "name": "stdout",
     "output_type": "stream",
     "text": [
      "Help on class ImageContainer in module ImageContainer:\n",
      "\n",
      "class ImageContainer(builtins.object)\n",
      " |  ImageContainer(img_dir: str, band_count: int, model_path: str, img_ext: str = 'tif') -> None\n",
      " |  \n",
      " |  Provides a container interface for hyperspectral images not contained as a hypercube/envi load.\n",
      " |  The images may be of tif/png/jpeg/etc\n",
      " |  The intended use case of this object is to classify a single pixel of every wavelength iteratively\n",
      " |  \n",
      " |  Methods defined here:\n",
      " |  \n",
      " |  __init__(self, img_dir: str, band_count: int, model_path: str, img_ext: str = 'tif') -> None\n",
      " |      Initialize self.  See help(type(self)) for accurate signature.\n",
      " |  \n",
      " |  create_classification_mask(self) -> Optional[numpy.ndarray[int, float]]\n",
      " |      Given a band_stack has been created successfully, each stack will be evaluated by the model.\n",
      " |      Each stack corresponds to a column-major pixel with the original image size. \n",
      " |      This perfo\n",
      " |      Args:\n",
      " |          model_path (str): _description_rms predictions iteratively to then be reshaped into a 2d logical mask\n",
      " |  \n",
      " |  load_imagery(self) -> Optional[List[List[float]]]\n",
      " |      loads the wavelength data from the source img directory.\n",
      " |      Once image loading I/O is complete, a list of pixel-per-band stack is created.\n",
      " |      Each stack of bands corresponds to a pixel in column-major order (Top to bottom, left to right)\n",
      " |  \n",
      " |  load_model(self, model_path: str)\n",
      " |      Initialize the pixel-classification model\n",
      " |  \n",
      " |  validate_dir_source(self, img_dir: str) -> str\n",
      " |      Assures that path being used for the source imagery is valid and contains atleast the\n",
      " |  \n",
      " |  ----------------------------------------------------------------------\n",
      " |  Data descriptors defined here:\n",
      " |  \n",
      " |  __dict__\n",
      " |      dictionary for instance variables (if defined)\n",
      " |  \n",
      " |  __weakref__\n",
      " |      list of weak references to the object (if defined)\n",
      "\n"
     ]
    }
   ],
   "source": [
    "import sys\n",
    "sys.path.append(\"..\")\n",
    "import matplotlib.pyplot as plt\n",
    "from ImageContainer import ImageContainer\n",
    "help(ImageContainer)"
   ]
  },
  {
   "cell_type": "code",
   "execution_count": 2,
   "metadata": {},
   "outputs": [],
   "source": [
    "# Replace these relative paths\n",
    "img_dir = r\"../../../tripod_canopy_2020_201001_111519\"\n",
    "filename = r\"../../../Tripod-Application/Apply_model/model_late_raw.sav\"\n",
    "band_count = 228\n",
    "image_data = ImageContainer(img_dir=img_dir, band_count=band_count,model_path=filename,img_ext=\".tif\")\n"
   ]
  },
  {
   "cell_type": "code",
   "execution_count": 3,
   "metadata": {},
   "outputs": [
    {
     "data": {
      "text/plain": [
       "<matplotlib.image.AxesImage at 0x7ff7007a0a90>"
      ]
     },
     "execution_count": 3,
     "metadata": {},
     "output_type": "execute_result"
    },
    {
     "data": {
      "image/png": "[encoded data removed]",
      "text/plain": [
       "<Figure size 640x480 with 1 Axes>"
      ]
     },
     "metadata": {},
     "output_type": "display_data"
    }
   ],
   "source": [
    "plt.imshow(image_data.output_prediction)"
   ]
  }
 ],
 "metadata": {
  "kernelspec": {
   "display_name": "classify_env",
   "language": "python",
   "name": "python3"
  },
  "language_info": {
   "codemirror_mode": {
    "name": "ipython",
    "version": 3
   },
   "file_extension": ".py",
   "mimetype": "text/x-python",
   "name": "python",
   "nbconvert_exporter": "python",
   "pygments_lexer": "ipython3",
   "version": "3.10.6"
  },
  "orig_nbformat": 4,
  "vscode": {
   "interpreter": {
    "hash": "858e1055f8ae0d24a069b7c18a2b77a3dee4e05e9d892c1f60c553c0e3ba2a72"
   }
  }
 },
 "nbformat": 4,
 "nbformat_minor": 2
}
